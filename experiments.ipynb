{
 "cells": [
  {
   "cell_type": "markdown",
   "metadata": {
    "colab_type": "text",
    "id": "LHc1zqf8WbNh"
   },
   "source": [
    "# Imports"
   ]
  },
  {
   "cell_type": "code",
   "execution_count": null,
   "metadata": {
    "colab": {},
    "colab_type": "code",
    "collapsed": true,
    "id": "djztEIyOBVgP"
   },
   "outputs": [],
   "source": [
    "import numpy as np\n",
    "import matplotlib.pyplot as plt\n",
    "from mpl_toolkits.mplot3d import Axes3D\n",
    "\n",
    "import torch\n",
    "from torch.utils.data import DataLoader\n",
    "\n",
    "from datasets import FromNpDataset, ModelnetDataset\n",
    "from models import VAE, cd, ENCODER_HIDDEN, DECODER_LAYERS\n",
    "import transforms"
   ]
  },
  {
   "cell_type": "markdown",
   "metadata": {
    "colab_type": "text",
    "id": "10zJ-pyBIh5a"
   },
   "source": [
    "# Prepare dataset"
   ]
  },
  {
   "cell_type": "code",
   "execution_count": null,
   "metadata": {
    "colab": {
     "base_uri": "https://localhost:8080/",
     "height": 34
    },
    "colab_type": "code",
    "collapsed": true,
    "executionInfo": {
     "elapsed": 29051,
     "status": "ok",
     "timestamp": 1554754955194,
     "user": {
      "displayName": "Jakub Zadrożny",
      "photoUrl": "https://lh3.googleusercontent.com/-wziThS4K-2k/AAAAAAAAAAI/AAAAAAAAABk/QEKk1TvZSGA/s64/photo.jpg",
      "userId": "15146713075546369893"
     },
     "user_tz": -120
    },
    "id": "c9sKlJdkM0Hh",
    "outputId": "5da733e8-0d1c-489c-85a9-7d6f1230f5eb"
   },
   "outputs": [],
   "source": [
    "t = transforms.Compose([\n",
    "    transforms.RandomRotation(0.01),\n",
    "    transforms.GaussianNoise(0.01),\n",
    "])\n",
    "\n",
    "train_dataset = ModelnetDataset(transform=t)\n",
    "test_dataset = ModelnetDataset(transform=None)\n",
    "\n",
    "train_loader = DataLoader(train_dataset, batch_size=24,\n",
    "                        shuffle=True, num_workers=4)\n",
    "test_loader = DataLoader(test_dataset, batch_size=24,\n",
    "                        shuffle=True, num_workers=1)"
   ]
  },
  {
   "cell_type": "markdown",
   "metadata": {
    "colab_type": "text",
    "id": "8jtFFTRTTC8z"
   },
   "source": [
    "# Visualize some data"
   ]
  },
  {
   "cell_type": "code",
   "execution_count": null,
   "metadata": {
    "colab": {},
    "colab_type": "code",
    "collapsed": true,
    "id": "8Ji6hIZNTC81"
   },
   "outputs": [],
   "source": [
    "def subplot_num(m, i, j):\n",
    "    return i*m + j\n",
    "\n",
    "def plot_samples(samples, n, m):\n",
    "    fig = plt.figure(figsize=(18,18))\n",
    "    for i in range(n):\n",
    "        for j in range(m):\n",
    "            idx = subplot_num(m, i, j)\n",
    "            X, Y, Z = np.split(samples[idx], 3)\n",
    "            ax = fig.add_subplot(n, m, idx+1, projection='3d')\n",
    "            ax.scatter(X, Y, Z)        \n",
    "    plt.show()\n",
    "    \n",
    "def apply_m_times(f, samples, m):\n",
    "    applied = []\n",
    "    for sample in samples:\n",
    "        applied.append(sample)\n",
    "        for i in range(m):\n",
    "            applied.append(f(sample))\n",
    "    return applied"
   ]
  },
  {
   "cell_type": "code",
   "execution_count": null,
   "metadata": {
    "colab": {
     "base_uri": "https://localhost:8080/",
     "height": 1009
    },
    "colab_type": "code",
    "executionInfo": {
     "elapsed": 37595,
     "status": "ok",
     "timestamp": 1554754963754,
     "user": {
      "displayName": "Jakub Zadrożny",
      "photoUrl": "https://lh3.googleusercontent.com/-wziThS4K-2k/AAAAAAAAAAI/AAAAAAAAABk/QEKk1TvZSGA/s64/photo.jpg",
      "userId": "15146713075546369893"
     },
     "user_tz": -120
    },
    "id": "sHKRhqoZTC83",
    "outputId": "067b2634-ad6b-4d51-e13c-dee7b856b973"
   },
   "outputs": [],
   "source": [
    "N, M = 4, 3\n",
    "batch = next(iter(test_loader))\n",
    "samples = apply_m_times(lambda x: t(x.numpy()), batch[:N], M)\n",
    "plot_samples(samples, N, M+1)"
   ]
  },
  {
   "cell_type": "markdown",
   "metadata": {
    "colab_type": "text",
    "id": "QSKoqZwmWSeQ"
   },
   "source": [
    "# Experiments"
   ]
  },
  {
   "cell_type": "markdown",
   "metadata": {
    "colab_type": "text",
    "id": "a_hnukMeWVJb"
   },
   "source": [
    "http://openaccess.thecvf.com/content_cvpr_2018/papers/Yang_FoldingNet_Point_Cloud_CVPR_2018_paper.pdf"
   ]
  },
  {
   "cell_type": "code",
   "execution_count": null,
   "metadata": {},
   "outputs": [],
   "source": [
    "model = VAE.load_from_drive(ENCODER_HIDDEN, DECODER_LAYERS, 'ae')"
   ]
  },
  {
   "cell_type": "code",
   "execution_count": null,
   "metadata": {
    "colab": {},
    "colab_type": "code",
    "id": "1afG9nMVTC9E",
    "scrolled": true
   },
   "outputs": [],
   "source": [
    "N, M = 4, 3\n",
    "batch = next(iter(test_loader))\n",
    "with torch.no_grad():\n",
    "    samples = apply_m_times(lambda x: model(x.unsqueeze(0))[0].squeeze(0), batch[:N], M)\n",
    "plot_samples(samples, N, M+1)"
   ]
  },
  {
   "cell_type": "code",
   "execution_count": null,
   "metadata": {
    "colab": {},
    "colab_type": "code",
    "id": "gOS_MGQFTC9H"
   },
   "outputs": [],
   "source": [
    "def reconstruct_dataset(model, loader):\n",
    "    model.eval()\n",
    "    model.to('cuda')\n",
    "    recs = []\n",
    "\n",
    "    with torch.no_grad():\n",
    "        for batch in loader:\n",
    "            batch = batch.cuda()\n",
    "\n",
    "            rec, _, _ = model(batch)\n",
    "            recs.append(rec)\n",
    "    \n",
    "    model.to('cpu')\n",
    "    return torch.cat(recs, dim=0).cpu()"
   ]
  },
  {
   "cell_type": "code",
   "execution_count": null,
   "metadata": {
    "colab": {},
    "colab_type": "code",
    "collapsed": true,
    "id": "F7_quWqxZXlN"
   },
   "outputs": [],
   "source": [
    "def nearest(sample, loader):\n",
    "    best = np.inf\n",
    "    sample_batch = x.unsqueeze(0).cuda()\n",
    "    for batch in loader:\n",
    "        batch = batch.cuda()\n",
    "        if y.shape[0] != batch.shape[0]:\n",
    "            y = x.expand(batch.shape[0], -1, -1).cuda()\n",
    "        best = min(best, torch.min(cd(batch, sample_batch)).item().cpu())\n",
    "    return best\n",
    "\n",
    "def rec_nearest(data, loader):\n",
    "    return [ nearest(data[idx], loader) for idx in range(data.shape[0]) ]"
   ]
  },
  {
   "cell_type": "code",
   "execution_count": null,
   "metadata": {},
   "outputs": [],
   "source": [
    "def cd_sample(data, idx, max_batch):\n",
    "    sample = data[idx].unsqueeze(0)\n",
    "    done = 0\n",
    "    results = []\n",
    "    while done < idx:\n",
    "        batch_size = min(max_batch, idx-done)\n",
    "        next_batch = data[done:done+batch_size].cuda()\n",
    "        sample_batch = sample.expand(batch_size, -1, -1).cuda()\n",
    "        results.append(cd(next_batch, sample_batch))\n",
    "        done += batch_size\n",
    "    return torch.cat(results, dim=0).cpu()\n",
    "\n",
    "def cd_dataset(data, max_batch):\n",
    "    N = len(data)\n",
    "    d = torch.from_numpy(np.full((N, N), np.inf))\n",
    "    for i in range(1, N):\n",
    "        sample_d = cd_sample(data, i, max_batch)\n",
    "        d[:i, i] = sample_d\n",
    "        d[i, :i] = sample_d\n",
    "    return d\n",
    "            \n",
    "def dataset_nearest(data, max_batch=64):\n",
    "    d = cd_dataset(data, max_batch)\n",
    "    return torch.min(d, dim=1)[0]"
   ]
  },
  {
   "cell_type": "code",
   "execution_count": null,
   "metadata": {
    "colab": {},
    "colab_type": "code",
    "id": "pWvllSe1hRkO",
    "scrolled": true
   },
   "outputs": [],
   "source": [
    "def cov(model, dataset, batch_size=64):\n",
    "    with torch.no_grad():\n",
    "        data_loader = DataLoader(dataset, batch_size=batch_size,\n",
    "                            shuffle=False, num_workers=2)\n",
    "        rec = reconstruct_dataset(model, data_loader).numpy()\n",
    "        rec_dataset = FromNpDataset(rec)\n",
    "        rec_loader = DataLoader(rec_dataset, batch_size=batch_size,\n",
    "                               shuffle=False, num_workers=2)\n",
    "        \n",
    "        data = torch.from_numpy(dataset.data)\n",
    "        \n",
    "        d_dataset = dataset_nearest(data)\n",
    "        d_rec = rec_nearest(data, rec_loader)\n",
    "        \n",
    "        return torch.sum(d_rec <= d_dataset) / len(dataset)"
   ]
  },
  {
   "cell_type": "code",
   "execution_count": null,
   "metadata": {},
   "outputs": [],
   "source": [
    "print(cov(model, test_dataset))"
   ]
  }
 ],
 "metadata": {
  "accelerator": "GPU",
  "colab": {
   "collapsed_sections": [],
   "name": "pointnet_vae.ipynb",
   "provenance": [],
   "version": "0.3.2"
  },
  "kernelspec": {
   "display_name": "Python 3",
   "language": "python",
   "name": "python3"
  },
  "language_info": {
   "codemirror_mode": {
    "name": "ipython",
    "version": 3
   },
   "file_extension": ".py",
   "mimetype": "text/x-python",
   "name": "python",
   "nbconvert_exporter": "python",
   "pygments_lexer": "ipython3",
   "version": "3.6.8"
  }
 },
 "nbformat": 4,
 "nbformat_minor": 1
}

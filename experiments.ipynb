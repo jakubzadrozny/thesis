{
 "cells": [
  {
   "cell_type": "markdown",
   "metadata": {
    "colab_type": "text",
    "id": "LHc1zqf8WbNh"
   },
   "source": [
    "# Imports"
   ]
  },
  {
   "cell_type": "code",
   "execution_count": 1,
   "metadata": {
    "colab": {},
    "colab_type": "code",
    "collapsed": true,
    "id": "djztEIyOBVgP"
   },
   "outputs": [],
   "source": [
    "import numpy as np\n",
    "import matplotlib.pyplot as plt\n",
    "from mpl_toolkits.mplot3d import Axes3D\n",
    "\n",
    "import torch\n",
    "from torch.utils.data import DataLoader\n",
    "\n",
    "from datasets import FromNpDataset, ModelnetDataset\n",
    "from models import VAE, cd\n",
    "from transforms import RandomRotation"
   ]
  },
  {
   "cell_type": "markdown",
   "metadata": {
    "colab_type": "text",
    "id": "10zJ-pyBIh5a"
   },
   "source": [
    "# Prepare dataset"
   ]
  },
  {
   "cell_type": "code",
   "execution_count": 2,
   "metadata": {
    "colab": {
     "base_uri": "https://localhost:8080/",
     "height": 34
    },
    "colab_type": "code",
    "collapsed": true,
    "executionInfo": {
     "elapsed": 29051,
     "status": "ok",
     "timestamp": 1554754955194,
     "user": {
      "displayName": "Jakub Zadrożny",
      "photoUrl": "https://lh3.googleusercontent.com/-wziThS4K-2k/AAAAAAAAAAI/AAAAAAAAABk/QEKk1TvZSGA/s64/photo.jpg",
      "userId": "15146713075546369893"
     },
     "user_tz": -120
    },
    "id": "c9sKlJdkM0Hh",
    "outputId": "5da733e8-0d1c-489c-85a9-7d6f1230f5eb"
   },
   "outputs": [],
   "source": [
    "train_dataset = ModelnetDataset(transform=RandomRotation())\n",
    "test_dataset = ModelnetDataset(transform=None)\n",
    "\n",
    "train_loader = DataLoader(train_dataset, batch_size=24,\n",
    "                        shuffle=True, num_workers=4)\n",
    "test_loader = DataLoader(test_dataset, batch_size=24,\n",
    "                        shuffle=True, num_workers=1)"
   ]
  },
  {
   "cell_type": "markdown",
   "metadata": {
    "colab_type": "text",
    "id": "8jtFFTRTTC8z"
   },
   "source": [
    "# Visualize some data"
   ]
  },
  {
   "cell_type": "code",
   "execution_count": null,
   "metadata": {
    "colab": {},
    "colab_type": "code",
    "collapsed": true,
    "id": "8Ji6hIZNTC81"
   },
   "outputs": [],
   "source": [
    "def subplot_num(m, i, j):\n",
    "    return i*m + j\n",
    "\n",
    "def plot_samples(samples, n, m):\n",
    "    fig = plt.figure(figsize=(18,18))\n",
    "    for i in range(n):\n",
    "        for j in range(m):\n",
    "            idx = subplot_num(m, i, j)\n",
    "            X, Y, Z = np.split(samples[idx], 3)\n",
    "            ax = fig.add_subplot(n, m, idx+1, projection='3d')\n",
    "            ax.scatter(X, Y, Z)        \n",
    "    plt.show()\n",
    "    \n",
    "def apply_m_times(f, samples, m):\n",
    "    applied = []\n",
    "    for sample in samples:\n",
    "        applied.append(sample)\n",
    "        for i in range(m):\n",
    "            applied.append(f(sample))\n",
    "    return applied"
   ]
  },
  {
   "cell_type": "code",
   "execution_count": null,
   "metadata": {
    "colab": {
     "base_uri": "https://localhost:8080/",
     "height": 1009
    },
    "colab_type": "code",
    "collapsed": true,
    "executionInfo": {
     "elapsed": 37595,
     "status": "ok",
     "timestamp": 1554754963754,
     "user": {
      "displayName": "Jakub Zadrożny",
      "photoUrl": "https://lh3.googleusercontent.com/-wziThS4K-2k/AAAAAAAAAAI/AAAAAAAAABk/QEKk1TvZSGA/s64/photo.jpg",
      "userId": "15146713075546369893"
     },
     "user_tz": -120
    },
    "id": "sHKRhqoZTC83",
    "outputId": "067b2634-ad6b-4d51-e13c-dee7b856b973"
   },
   "outputs": [],
   "source": [
    "N, M = 4, 3\n",
    "batch = next(iter(test_loader))\n",
    "samples = apply_m_times(lambda x: RandomRotation()(x.numpy()), batch[:N], M)\n",
    "plot_samples(samples, N, M+1)"
   ]
  },
  {
   "cell_type": "markdown",
   "metadata": {
    "colab_type": "text",
    "id": "QSKoqZwmWSeQ"
   },
   "source": [
    "# Experiments"
   ]
  },
  {
   "cell_type": "markdown",
   "metadata": {
    "colab_type": "text",
    "id": "a_hnukMeWVJb"
   },
   "source": [
    "http://openaccess.thecvf.com/content_cvpr_2018/papers/Yang_FoldingNet_Point_Cloud_CVPR_2018_paper.pdf"
   ]
  },
  {
   "cell_type": "code",
   "execution_count": null,
   "metadata": {
    "collapsed": true
   },
   "outputs": [],
   "source": [
    "model = VAE.load_from_drive()"
   ]
  },
  {
   "cell_type": "code",
   "execution_count": 0,
   "metadata": {
    "colab": {},
    "colab_type": "code",
    "collapsed": true,
    "id": "1afG9nMVTC9E"
   },
   "outputs": [],
   "source": [
    "N, M = 4, 3\n",
    "batch = next(iter(test_loader))\n",
    "with torch.no_grad():\n",
    "    samples = apply_m_times(lambda x: model(x.unsqueeze(0))[0].squeeze(0), batch[:N], M)\n",
    "plot_samples(samples, N, M+1)"
   ]
  },
  {
   "cell_type": "code",
   "execution_count": 0,
   "metadata": {
    "colab": {},
    "colab_type": "code",
    "collapsed": true,
    "id": "gOS_MGQFTC9H"
   },
   "outputs": [],
   "source": [
    "def reconstruct_dataset(model, loader):\n",
    "    model.eval()\n",
    "    model.to('cuda')\n",
    "    recs = []\n",
    "\n",
    "    with torch.no_grad():\n",
    "        for batch in loader:\n",
    "            batch = batch.cuda()\n",
    "\n",
    "            rec, _, _ = model(batch)\n",
    "            recs.append(rec)\n",
    "    \n",
    "    model.to('cpu')\n",
    "    return torch.stack(recs)"
   ]
  },
  {
   "cell_type": "code",
   "execution_count": 0,
   "metadata": {
    "colab": {},
    "colab_type": "code",
    "collapsed": true,
    "id": "RLVXkFhtZTXs"
   },
   "outputs": [],
   "source": [
    "reconstructed = reconstruct_dataset(test_loader).numpy()"
   ]
  },
  {
   "cell_type": "code",
   "execution_count": 0,
   "metadata": {
    "colab": {},
    "colab_type": "code",
    "collapsed": true,
    "id": "F7_quWqxZXlN"
   },
   "outputs": [],
   "source": [
    "def nearest(x, loader):\n",
    "    best = np.inf\n",
    "    y = x.unsqueeze(0)\n",
    "    with torch.no_grad():\n",
    "        for batch in loader:\n",
    "            batch = batch.cuda()\n",
    "            if y.shape[0] != batch.shape[0]:\n",
    "                y = x.expand(batch.shape[0], -1, -1).cuda()\n",
    "            best = min(best, torch.min(cd(y, batch)).item())\n",
    "    return best\n",
    "\n",
    "def cov_single(idx, data, loader):\n",
    "    sample = data[idx]\n",
    "    \n",
    "    data_excl = np.delete(train_data, idx, axis=0)\n",
    "    dataset_excl = FromNpDataset(data_excl)\n",
    "    loader_excl = DataLoader(dataset_excl, batch_size=24,\n",
    "                                  shuffle=False, num_workers=1)\n",
    "    \n",
    "    data_d = nearest(sample, loader_excl)\n",
    "    loader_d = nearest(sample, loader)\n",
    "    \n",
    "    return loader_d <= data_d\n",
    "\n",
    "def cov(S, T):\n",
    "    T_dataset = FromNpDataset(T)\n",
    "    T_loader = DataLoader(T_dataset, batch_size=24,\n",
    "                        shuffle=False, num_workers=1)\n",
    "    N = data.shape[0]\n",
    "    return sum([ cov_single(idx, S, T_loader) for idx in range(N) ]) / N"
   ]
  },
  {
   "cell_type": "code",
   "execution_count": 0,
   "metadata": {
    "colab": {},
    "colab_type": "code",
    "collapsed": true,
    "id": "pWvllSe1hRkO"
   },
   "outputs": [],
   "source": [
    "cov(train_data, reconstructed)"
   ]
  }
 ],
 "metadata": {
  "accelerator": "GPU",
  "colab": {
   "collapsed_sections": [],
   "name": "pointnet_vae.ipynb",
   "provenance": [],
   "version": "0.3.2"
  },
  "kernelspec": {
   "display_name": "Python 3",
   "language": "python",
   "name": "python3"
  },
  "language_info": {
   "codemirror_mode": {
    "name": "ipython",
    "version": 3
   },
   "file_extension": ".py",
   "mimetype": "text/x-python",
   "name": "python",
   "nbconvert_exporter": "python",
   "pygments_lexer": "ipython3",
   "version": "3.6.8"
  }
 },
 "nbformat": 4,
 "nbformat_minor": 1
}
